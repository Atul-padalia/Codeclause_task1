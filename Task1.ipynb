{
 "cells": [
  {
   "attachments": {},
   "cell_type": "markdown",
   "metadata": {},
   "source": [
    "# Project- URL Shortener  "
   ]
  },
  {
   "attachments": {},
   "cell_type": "markdown",
   "metadata": {},
   "source": [
    "## Project Description\n",
    "URL shorteners are services that convert long URLs into shorter, more manageable versions. They are used to make links more visually appealing, easier to remember, and compatible with platforms with character limitations. URL shorteners offer benefits such as tracking and analytics, link customization, and link management. However, they can introduce a slight delay in browsing and may be exploited for malicious purposes. Overall, URL shorteners simplify links, improve user experience, and facilitate the sharing and navigation of web content."
   ]
  },
  {
   "attachments": {},
   "cell_type": "markdown",
   "metadata": {},
   "source": [
    "## Istalling Module and importing libraries "
   ]
  },
  {
   "cell_type": "code",
   "execution_count": 1,
   "metadata": {},
   "outputs": [],
   "source": [
    "# pip install pyshorteners\n",
    "import pyshorteners"
   ]
  },
  {
   "attachments": {},
   "cell_type": "markdown",
   "metadata": {},
   "source": [
    "## Code for URL shortener using Tinyurl Service"
   ]
  },
  {
   "cell_type": "code",
   "execution_count": 2,
   "metadata": {},
   "outputs": [
    {
     "name": "stdout",
     "output_type": "stream",
     "text": [
      "Shorter URL:https://tinyurl.com/2g7ug6t2\n"
     ]
    }
   ],
   "source": [
    "url=input('enter the URL:')\n",
    "short=pyshorteners.Shortener()\n",
    "short_url=short.tinyurl.short(url)\n",
    "print(f'Shorter URL:{short_url}')"
   ]
  }
 ],
 "metadata": {
  "kernelspec": {
   "display_name": "Python 3",
   "language": "python",
   "name": "python3"
  },
  "language_info": {
   "codemirror_mode": {
    "name": "ipython",
    "version": 3
   },
   "file_extension": ".py",
   "mimetype": "text/x-python",
   "name": "python",
   "nbconvert_exporter": "python",
   "pygments_lexer": "ipython3",
   "version": "3.11.3"
  },
  "orig_nbformat": 4
 },
 "nbformat": 4,
 "nbformat_minor": 2
}
